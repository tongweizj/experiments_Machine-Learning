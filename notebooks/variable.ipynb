{
 "cells": [
  {
   "cell_type": "code",
   "execution_count": 1,
   "id": "4d38e163",
   "metadata": {},
   "outputs": [
    {
     "name": "stderr",
     "output_type": "stream",
     "text": [
      "2025-05-25 11:52:30.440251: E external/local_xla/xla/stream_executor/cuda/cuda_dnn.cc:9261] Unable to register cuDNN factory: Attempting to register factory for plugin cuDNN when one has already been registered\n",
      "2025-05-25 11:52:30.440281: E external/local_xla/xla/stream_executor/cuda/cuda_fft.cc:607] Unable to register cuFFT factory: Attempting to register factory for plugin cuFFT when one has already been registered\n",
      "2025-05-25 11:52:30.441227: E external/local_xla/xla/stream_executor/cuda/cuda_blas.cc:1515] Unable to register cuBLAS factory: Attempting to register factory for plugin cuBLAS when one has already been registered\n",
      "2025-05-25 11:52:30.449308: I tensorflow/core/platform/cpu_feature_guard.cc:182] This TensorFlow binary is optimized to use available CPU instructions in performance-critical operations.\n",
      "To enable the following instructions: AVX2 FMA, in other operations, rebuild TensorFlow with the appropriate compiler flags.\n",
      "2025-05-25 11:52:31.111164: W tensorflow/compiler/tf2tensorrt/utils/py_utils.cc:38] TF-TRT Warning: Could not find TensorRT\n"
     ]
    }
   ],
   "source": [
    "import tensorflow as tf"
   ]
  },
  {
   "cell_type": "code",
   "execution_count": 4,
   "id": "7a0aaf11",
   "metadata": {},
   "outputs": [
    {
     "name": "stderr",
     "output_type": "stream",
     "text": [
      "2025-05-25 11:56:21.212853: I external/local_xla/xla/stream_executor/cuda/cuda_executor.cc:901] successful NUMA node read from SysFS had negative value (-1), but there must be at least one NUMA node, so returning NUMA node zero. See more at https://github.com/torvalds/linux/blob/v6.0/Documentation/ABI/testing/sysfs-bus-pci#L344-L355\n",
      "2025-05-25 11:56:21.239718: I external/local_xla/xla/stream_executor/cuda/cuda_executor.cc:901] successful NUMA node read from SysFS had negative value (-1), but there must be at least one NUMA node, so returning NUMA node zero. See more at https://github.com/torvalds/linux/blob/v6.0/Documentation/ABI/testing/sysfs-bus-pci#L344-L355\n",
      "2025-05-25 11:56:21.242616: I external/local_xla/xla/stream_executor/cuda/cuda_executor.cc:901] successful NUMA node read from SysFS had negative value (-1), but there must be at least one NUMA node, so returning NUMA node zero. See more at https://github.com/torvalds/linux/blob/v6.0/Documentation/ABI/testing/sysfs-bus-pci#L344-L355\n",
      "2025-05-25 11:56:21.246179: I external/local_xla/xla/stream_executor/cuda/cuda_executor.cc:901] successful NUMA node read from SysFS had negative value (-1), but there must be at least one NUMA node, so returning NUMA node zero. See more at https://github.com/torvalds/linux/blob/v6.0/Documentation/ABI/testing/sysfs-bus-pci#L344-L355\n",
      "2025-05-25 11:56:21.249358: I external/local_xla/xla/stream_executor/cuda/cuda_executor.cc:901] successful NUMA node read from SysFS had negative value (-1), but there must be at least one NUMA node, so returning NUMA node zero. See more at https://github.com/torvalds/linux/blob/v6.0/Documentation/ABI/testing/sysfs-bus-pci#L344-L355\n",
      "2025-05-25 11:56:21.252120: I external/local_xla/xla/stream_executor/cuda/cuda_executor.cc:901] successful NUMA node read from SysFS had negative value (-1), but there must be at least one NUMA node, so returning NUMA node zero. See more at https://github.com/torvalds/linux/blob/v6.0/Documentation/ABI/testing/sysfs-bus-pci#L344-L355\n",
      "2025-05-25 11:56:21.340128: I external/local_xla/xla/stream_executor/cuda/cuda_executor.cc:901] successful NUMA node read from SysFS had negative value (-1), but there must be at least one NUMA node, so returning NUMA node zero. See more at https://github.com/torvalds/linux/blob/v6.0/Documentation/ABI/testing/sysfs-bus-pci#L344-L355\n",
      "2025-05-25 11:56:21.341256: I external/local_xla/xla/stream_executor/cuda/cuda_executor.cc:901] successful NUMA node read from SysFS had negative value (-1), but there must be at least one NUMA node, so returning NUMA node zero. See more at https://github.com/torvalds/linux/blob/v6.0/Documentation/ABI/testing/sysfs-bus-pci#L344-L355\n",
      "2025-05-25 11:56:21.342309: I external/local_xla/xla/stream_executor/cuda/cuda_executor.cc:901] successful NUMA node read from SysFS had negative value (-1), but there must be at least one NUMA node, so returning NUMA node zero. See more at https://github.com/torvalds/linux/blob/v6.0/Documentation/ABI/testing/sysfs-bus-pci#L344-L355\n",
      "2025-05-25 11:56:21.343348: I tensorflow/core/common_runtime/gpu/gpu_device.cc:1929] Created device /job:localhost/replica:0/task:0/device:GPU:0 with 6114 MB memory:  -> device: 0, name: NVIDIA GeForce RTX 3070 Ti, pci bus id: 0000:01:00.0, compute capability: 8.6\n"
     ]
    }
   ],
   "source": [
    "# 使用正态分布初始化器\n",
    "initializer = tf.random_normal_initializer(mean=100, stddev=0.35)\n",
    "\n",
    "# 创建变量 W，形状为 (1, 4)\n",
    "W = tf.Variable(initial_value=initializer(shape=(1, 4)), name=\"W\")\n",
    "\n",
    "# 创建偏置变量 b，初始化为零，形状为 (4,)\n",
    "b = tf.Variable(tf.zeros([4]), name=\"b\")"
   ]
  },
  {
   "cell_type": "code",
   "execution_count": 5,
   "id": "403eeb22",
   "metadata": {},
   "outputs": [
    {
     "data": {
      "text/plain": [
       "[<tf.Variable 'W:0' shape=(1, 4) dtype=float32, numpy=array([[100.426  , 100.44359, 100.23846, 100.40178]], dtype=float32)>,\n",
       " <tf.Variable 'b:0' shape=(4,) dtype=float32, numpy=array([0., 0., 0., 0.], dtype=float32)>]"
      ]
     },
     "execution_count": 5,
     "metadata": {},
     "output_type": "execute_result"
    }
   ],
   "source": [
    "[W, b]"
   ]
  },
  {
   "cell_type": "code",
   "execution_count": null,
   "id": "6815f4b7",
   "metadata": {},
   "outputs": [
    {
     "name": "stdout",
     "output_type": "stream",
     "text": [
      "W: [[100.236984  99.49695   99.68303  100.35204 ]]\n",
      "b: [0. 0. 0. 0.]\n",
      "b: [1. 1. 1. 1.]\n"
     ]
    }
   ],
   "source": [
    "# 定义变量\n",
    "W = tf.Variable(tf.random.normal(shape=(1, 4), mean=100, stddev=0.35), name=\"W\")\n",
    "b = tf.Variable(tf.zeros([4]), name=\"b\")\n",
    "\n",
    "# TensorFlow 2.x 自动追踪变量，不需要手动初始化\n",
    "print(\"W:\", W.numpy())\n",
    "print(\"b:\", b.numpy())\n",
    "\n",
    "# 修改变量给你\n",
    "b.assign_add([1, 1, 1, 1])\n",
    "print(\"b:\", b.numpy())"
   ]
  },
  {
   "cell_type": "markdown",
   "id": "d05035b9",
   "metadata": {},
   "source": [
    "vl = tf.Variable(..., name='v1' )\n",
    "v2 = tf.Variable(..., name='v2')\n",
    "# 指定需要保存和恢复的变量\n",
    "saver = tf. train. Saver ({'v1': v1, 'v2': v2})\n",
    "saver = tf. train. Saver ([vl, v2])\n",
    "saver = tf. train.Saver({#.op.name: v for v in (v1, v2]})\n",
    "# 保存变量的方法\n",
    "tf.train.saver.save(sess,\n",
    "'my-model', global_step=0)\n",
    "==> filename: 'my-model-0'"
   ]
  },
  {
   "cell_type": "code",
   "execution_count": 9,
   "id": "f98e2525",
   "metadata": {},
   "outputs": [
    {
     "data": {
      "text/plain": [
       "'checkpoints/weights.ckpt'"
      ]
     },
     "execution_count": 9,
     "metadata": {},
     "output_type": "execute_result"
    }
   ],
   "source": [
    "# Saver 使用\n",
    "\n",
    "# 指定需要保存和恢复的变量\n",
    "# 创建 checkpoint\n",
    "ckpt = tf.train.Checkpoint(W=W, b=b)\n",
    "\n",
    "# 保存到文件夹\n",
    "ckpt.write('checkpoints/weights.ckpt')"
   ]
  }
 ],
 "metadata": {
  "kernelspec": {
   "display_name": "3d-tf",
   "language": "python",
   "name": "python3"
  },
  "language_info": {
   "codemirror_mode": {
    "name": "ipython",
    "version": 3
   },
   "file_extension": ".py",
   "mimetype": "text/x-python",
   "name": "python",
   "nbconvert_exporter": "python",
   "pygments_lexer": "ipython3",
   "version": "3.11.11"
  }
 },
 "nbformat": 4,
 "nbformat_minor": 5
}
